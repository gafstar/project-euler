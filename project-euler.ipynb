{
 "cells": [
  {
   "cell_type": "code",
   "execution_count": 0,
   "metadata": {
    "colab": {},
    "colab_type": "code",
    "id": "0HZP2ucXpPrd"
   },
   "outputs": [],
   "source": []
  },
  {
   "cell_type": "code",
   "execution_count": 0,
   "metadata": {
    "colab": {},
    "colab_type": "code",
    "id": "Eaa1UYaEpPrf"
   },
   "outputs": [],
   "source": [
    "mikeyaworski.com\n"
   ]
  },
  {
   "cell_type": "code",
   "execution_count": 0,
   "metadata": {
    "colab": {},
    "colab_type": "code",
    "id": "mtUuCvUMpPrh",
    "outputId": "c6b4f356-606a-4bb1-96d3-a56743fddb24"
   },
   "outputs": [
    {
     "name": "stdout",
     "output_type": "stream",
     "text": [
      "6857\n",
      "6857.0\n"
     ]
    }
   ],
   "source": [
    "# returns True if parameter n is a prime number, False if composite and \"Neither prime, nor composite\" if neither\n",
    "def isPrime(n):\n",
    "    if n < 2: return \"Neither prime, nor composite\"\n",
    "    for i in range(2, int(n**0.5) + 1):\n",
    "        if n % i == 0:\n",
    "            return False\n",
    "    return True\n",
    "\n",
    "# returns smallest factor of parameter n\n",
    "def findSmallestFactor(n, i):\n",
    "    if n % i == 0: # found it\n",
    "        return i\n",
    "    elif i > n: # can't find it; something's wrong\n",
    "        return -1 \n",
    "    else: # keep trying\n",
    "        return findSmallestFactor(n, i + 1)\n",
    "                \n",
    "def greatestPrimeFactor(n):\n",
    "\n",
    "    # finding smallest factor increases performance IMMENSELY with numbers this large.\n",
    "    # for smaller numbers, just use:\n",
    "    # for i in range (int(n / 2), 1, -1):\n",
    "    smallestFactor = findSmallestFactor(n, 2)\n",
    "    for i in range (int(n / smallestFactor), 1, -1): # start with the largest factor and go down to 2\n",
    "\n",
    "        if n % i == 0: # check if it's even a factor before checking if it's prime\n",
    "            if isPrime(i): # THEN check if it's prime (better performance to do it now instead of before)\n",
    "                return i\n",
    "    return n # if it didn't already return something, there's nothing left to look for, so the number itself is prime\n",
    "\n",
    "# This function skips a lot of numbers by dividing by potential factors into the original number;\n",
    "# it starts at the smallest factor, and continues until the largest factor (number / smallest factor)\n",
    "def greatestPrimeFactor2(n):\n",
    "    \n",
    "    smallestFactor = findSmallestFactor(n, 2)\n",
    "\n",
    "    # this loops through the small factors first, but tests the large factors by dividing the number by the factors, i\n",
    "    for i in range (smallestFactor, int(n / smallestFactor) + 1): # for the smallest factor to the largest factor (inclusive for both)\n",
    "        \n",
    "        if float(n)/i == int(n/i) and n % n/i == 0: # if it's an integer and the number is divisible by the corresponding factor\n",
    "            if isPrime(n/i): # THEN check if it's prime (better performance to do it now instead of before)\n",
    "                return n/i\n",
    "            \n",
    "    return n # if it didn't already return something, there's nothing left to look for, so the number itself is prime\n",
    "\n",
    "print (greatestPrimeFactor(600851475143))\n",
    "print (greatestPrimeFactor2(600851475143))"
   ]
  },
  {
   "cell_type": "code",
   "execution_count": 0,
   "metadata": {
    "colab": {},
    "colab_type": "code",
    "id": "XDFmygW0pPrl"
   },
   "outputs": [],
   "source": []
  },
  {
   "cell_type": "code",
   "execution_count": 0,
   "metadata": {
    "colab": {},
    "colab_type": "code",
    "id": "mf06fG2ppPrn"
   },
   "outputs": [],
   "source": []
  },
  {
   "cell_type": "markdown",
   "metadata": {
    "colab_type": "text",
    "id": "OyoLmaDYpPrp"
   },
   "source": [
    "3. The prime factors of 13195 are 5, 7, 13 and 29.\n",
    "\n",
    "   What is the largest prime factor of the number 600851475143 ?"
   ]
  },
  {
   "cell_type": "code",
   "execution_count": 0,
   "metadata": {
    "colab": {},
    "colab_type": "code",
    "id": "YJObKq2WpPrp"
   },
   "outputs": [],
   "source": [
    "#return True if parameter n is a prime number, False if composit and neither if 'neither prime nor composite'\n",
    "def isPrime(n):\n",
    "    if n < 2: \n",
    "        return 'Neither prime nor composite'\n",
    "    for i in range (2, int(n**0.5)+1):\n",
    "        if n %i ==0:\n",
    "            return False\n",
    "    return True\n",
    "\n",
    "# returns the smallest prime factor of parameter n\n",
    "def findSmallestFactor(n, i):\n",
    "    if not n % i:\n",
    "        return i\n",
    "    elif i > n:\n",
    "        return -1\n",
    "    else:\n",
    "        return findSmallestFactor(n, i+1)\n",
    "    \n",
    "def greatestPrimeFactor(n):\n",
    "    \n",
    "    #finding smallest factor increases performance IMENSELY with numbers this large\n",
    "    #for smaller number, just use:\n",
    "    #for i in range (int (n/2), 1, -1)\n",
    "    smallestFactor - findSmallestFactor(n, 2)\n",
    "    for i in range (int(n/smallestFactor), 1, -1): # start with the largest factor and go down to 2\n",
    "        \n",
    "        if not n %i:\n",
    "            if isPrime(i):\n",
    "                return i\n",
    "    return n\n",
    "\n",
    "#This function skips a lot of numbers by dividing by potential factors into the original number; it starts at the \n",
    "#smallest"
   ]
  },
  {
   "cell_type": "markdown",
   "metadata": {
    "colab_type": "text",
    "id": "KTTOc0z0pPrr"
   },
   "source": [
    "4. A palindromic number reads the same both ways. The largest palindrome made from the product of two 2-digit numbers is 9009 = 91 × 99.\n",
    "\n",
    "   Find the largest palindrome made from the product of two 3-digit numbers."
   ]
  },
  {
   "cell_type": "code",
   "execution_count": 0,
   "metadata": {
    "colab": {},
    "colab_type": "code",
    "id": "fPYdjSgypPrs",
    "outputId": "cea81dac-3965-4bd0-cdbd-461579cac9e6"
   },
   "outputs": [
    {
     "name": "stdout",
     "output_type": "stream",
     "text": [
      "906609\n"
     ]
    }
   ],
   "source": [
    "# determines whether or not an integer is a palindrom\n",
    "def isPalindrome(n):\n",
    "    s = str (n)\n",
    "    reverseString= \"\"\n",
    "    \n",
    "    for i in range(len(s)-1, -1, -1):\n",
    "        reverseString += s[i]\n",
    "    return reverseString == s\n",
    "\n",
    "#returns lagest palindrom that is a multiple of two 3 digit numbers\n",
    "def findLargestPal():\n",
    "    palindrome = -1\n",
    "    \n",
    "    for i in range (999, 99, -1):\n",
    "        for j in range (i, 99, -1):\n",
    "            \n",
    "            #if product is palindrom and is greater than the last recorded palindrom\n",
    "            if isPalindrome(i*j) and i*j> palindrome:\n",
    "                palindrome = i* j\n",
    "    return palindrome\n",
    "print (findLargestPal())"
   ]
  },
  {
   "cell_type": "markdown",
   "metadata": {
    "colab_type": "text",
    "id": "tHCXdZoZpPrv"
   },
   "source": [
    "5. 2520 is the smallest number that can be divided by each of the numbers from 1 to 10 without any remainder.\n",
    "\n",
    "   What is the smallest positive number that is evenly divisible by all of the numbers from 1 to 20?"
   ]
  },
  {
   "cell_type": "code",
   "execution_count": 0,
   "metadata": {
    "colab": {},
    "colab_type": "code",
    "id": "j3_ebaPBpPrv"
   },
   "outputs": [],
   "source": [
    "#returns smallest multiples that is evenly divisible by all numbers from 1 to n and return -1 if multiple doesn't exist\n",
    "def findSmallesMultiple(n):\n",
    "    for i in range (n, factorial(n)+1, n):\n",
    "        if isMultiple(i, n):\n",
    "            return i\n",
    "    return -1\n",
    "\n",
    "#checks every number between 1 and n to see if x is a multiple of every number\n",
    "\n",
    "def isMultiple(x, n):\n",
    "    for i in range (1, n):\n",
    "        if x %i != 0:\n",
    "            return False\n",
    "    return True\n",
    "\n",
    "# returns the n factorial, or -1 if it doesn't exist\n",
    "\n",
    "def factorial (n):\n",
    "    if n > 1:\n",
    "        return n*factorial(n-1)\n",
    "    elif n >=0:\n",
    "        return 1\n",
    "    else: \n",
    "        return -1\n",
    "    \n",
    "print (findSmallesMultiple(10))\n",
    "print (findSmallesMultiple(20))"
   ]
  },
  {
   "cell_type": "markdown",
   "metadata": {
    "colab_type": "text",
    "id": "az97Kf0LpPrx"
   },
   "source": [
    "6. The sum of the squares of the first ten natural numbers is,\n",
    "\n",
    "$1^2 + 2^2 + ... + 10^2 = 385$\n",
    "The square of the sum of the first ten natural numbers is,\n",
    "\n",
    "$(1 + 2 + ... + 10)^2 = 552 = 3025$\n",
    "Hence the difference between the sum of the squares of the first ten natural numbers and the square of the sum is 3025 − 385 = 2640.\n",
    "\n",
    "Find the difference between the sum of the squares of the first one hundred natural numbers and the square of the sum."
   ]
  },
  {
   "cell_type": "code",
   "execution_count": 0,
   "metadata": {
    "colab": {},
    "colab_type": "code",
    "id": "NdEKP-79pPry",
    "outputId": "484dd1b0-48d9-4099-8ac2-9625247ae1b6"
   },
   "outputs": [
    {
     "data": {
      "text/plain": [
       "25164150"
      ]
     },
     "execution_count": 34,
     "metadata": {
      "tags": []
     },
     "output_type": "execute_result"
    }
   ],
   "source": [
    "def squared_sum(n):\n",
    "    return sum([i**2 for i in range (1, n +1)])\n",
    "def sum_of_squares(n):\n",
    "    return (sum(i for i in range(1, n+1)))**2\n",
    "\n",
    "sum_of_squares(100) - squared_sum (100)"
   ]
  },
  {
   "cell_type": "markdown",
   "metadata": {
    "colab_type": "text",
    "id": "zmSene63pPr0"
   },
   "source": [
    "7. By listing the first six prime numbers: 2, 3, 5, 7, 11, and 13, we can see that the 6th prime is 13.\n",
    "\n",
    "   What is the 10 001st prime number?"
   ]
  },
  {
   "cell_type": "code",
   "execution_count": 0,
   "metadata": {
    "colab": {},
    "colab_type": "code",
    "id": "vYxJ6sk5pPr0",
    "outputId": "8e2f785c-8ef2-4539-9805-dd65511200b4"
   },
   "outputs": [
    {
     "name": "stdout",
     "output_type": "stream",
     "text": [
      "104743\n"
     ]
    }
   ],
   "source": [
    "def isPrime(n):\n",
    "    if n < 2: \n",
    "        return 'Neither prime nor composite'\n",
    "    for i in range (2, int(n**0.5)+1):\n",
    "        if n %i ==0:\n",
    "            return False\n",
    "    return True\n",
    "\n",
    "# return the nth prime number\n",
    "def nthPrime (n):\n",
    "    numberOfPrimes = 0\n",
    "    prime = 1\n",
    "    \n",
    "    while numberOfPrimes < n:\n",
    "        prime += 1\n",
    "        if isPrime(prime):\n",
    "            numberOfPrimes +=1\n",
    "    return prime\n",
    "print (nthPrime(10001))"
   ]
  },
  {
   "cell_type": "code",
   "execution_count": 0,
   "metadata": {
    "colab": {},
    "colab_type": "code",
    "id": "POxV16QrpPr3"
   },
   "outputs": [],
   "source": []
  },
  {
   "cell_type": "markdown",
   "metadata": {
    "colab_type": "text",
    "id": "LpkV6b45vjqL"
   },
   "source": [
    "9. \n",
    "A Pythagorean triplet is a set of three natural numbers, $a < b < c$, for which,\n",
    "\n",
    "$a^2 + b^2 = c^2$\n",
    "For example,  $32 + 42 = 9 + 16 = 25 = 52.$\n",
    "\n",
    "There exists exactly one Pythagorean triplet for which  $a + b + c = 1000.$\n",
    "Find the product abc."
   ]
  },
  {
   "cell_type": "code",
   "execution_count": 0,
   "metadata": {
    "colab": {
     "base_uri": "https://localhost:8080/",
     "height": 68
    },
    "colab_type": "code",
    "executionInfo": {
     "elapsed": 288,
     "status": "ok",
     "timestamp": 1560278824574,
     "user": {
      "displayName": "Ghezae Araya",
      "photoUrl": "",
      "userId": "15217319699035524667"
     },
     "user_tz": 420
    },
    "id": "xJTYMluKwAcH",
    "outputId": "7be28c68-8157-47a5-d8d6-f3836f47b305"
   },
   "outputs": [
    {
     "name": "stdout",
     "output_type": "stream",
     "text": [
      "200 375 425\n",
      "product: \n",
      "Time: 0.09717321395874023\n"
     ]
    }
   ],
   "source": [
    "import time\n",
    "start = time.time()\n",
    "\n",
    "for num in range(1, 1000):\n",
    "  for dig in range (num, 1000 - num):\n",
    "    i = 1000 - num - dig\n",
    "    if num * num + dig * dig == i * i:\n",
    "      print (num, dig, i)\n",
    "      print (\"product: \")\n",
    "\n",
    "elapsed = time.time() - start\n",
    "\n",
    "print (f'Time: {elapsed}')"
   ]
  },
  {
   "cell_type": "code",
   "execution_count": 0,
   "metadata": {
    "colab": {},
    "colab_type": "code",
    "id": "dwICw8N93DHl"
   },
   "outputs": [],
   "source": []
  },
  {
   "cell_type": "markdown",
   "metadata": {
    "colab_type": "text",
    "id": "0TQdwZnX5-oU"
   },
   "source": [
    "The sum of the primes below $10$ is $2 + 3 + 5 + 7 = 17$.\n",
    "\n",
    "Find the sum of all the primes below two million."
   ]
  },
  {
   "cell_type": "code",
   "execution_count": 0,
   "metadata": {
    "colab": {
     "base_uri": "https://localhost:8080/",
     "height": 51
    },
    "colab_type": "code",
    "executionInfo": {
     "elapsed": 386,
     "status": "ok",
     "timestamp": 1560289768144,
     "user": {
      "displayName": "Ghezae Araya",
      "photoUrl": "",
      "userId": "15217319699035524667"
     },
     "user_tz": 420
    },
    "id": "Myiv95OVLSux",
    "outputId": "f57f08be-9322-4f87-8590-d6d5a507c834"
   },
   "outputs": [
    {
     "name": "stdout",
     "output_type": "stream",
     "text": [
      "1060\n",
      "Time: 0.0027985572814941406\n"
     ]
    }
   ],
   "source": [
    "import time\n",
    "start = time.time()\n",
    "\n",
    "def isPrime(n):\n",
    "    if n < 2: \n",
    "        return 'Neither prime nor composite'\n",
    "    for i in range (2, int(n**0.5)+1):\n",
    "        if n %i ==0:\n",
    "            return False\n",
    "    return True\n",
    "\n",
    "def sum_primes_less_n(n):\n",
    "    \n",
    "  prime_total=0\n",
    "#generates a list of numbers.\n",
    "  for number in range(2, 101):\n",
    "    if is_prime(number):\n",
    "      prime_total += number\n",
    "  print (prime_total)\n",
    "  \n",
    "sum_primes_less_n(20)\n",
    "\n",
    "elapsed = time.time() - start\n",
    "\n",
    "print (f'Time: {elapsed}')\n"
   ]
  },
  {
   "cell_type": "code",
   "execution_count": 0,
   "metadata": {
    "colab": {
     "base_uri": "https://localhost:8080/",
     "height": 34
    },
    "colab_type": "code",
    "executionInfo": {
     "elapsed": 251,
     "status": "ok",
     "timestamp": 1560289571773,
     "user": {
      "displayName": "Ghezae Araya",
      "photoUrl": "",
      "userId": "15217319699035524667"
     },
     "user_tz": 420
    },
    "id": "euMi-naVP1yv",
    "outputId": "cd68554f-a053-4831-f77f-4cff93b1e601"
   },
   "outputs": [
    {
     "name": "stdout",
     "output_type": "stream",
     "text": [
      "1060\n"
     ]
    }
   ],
   "source": [
    "sum_primes_less_n(20)"
   ]
  },
  {
   "cell_type": "code",
   "execution_count": 0,
   "metadata": {
    "colab": {},
    "colab_type": "code",
    "id": "Au_u_9B8gXJx"
   },
   "outputs": [],
   "source": []
  },
  {
   "cell_type": "markdown",
   "metadata": {
    "colab_type": "text",
    "id": "ptNm72lEgiv8"
   },
   "source": [
    "16. $2^{15} = 32768$ and the sum of its digits is $3 + 2 + 7 + 6 + 8 = 26.$\n",
    "\n",
    "What is the sum of the digits of the number $ 2^ {1000}?$"
   ]
  },
  {
   "cell_type": "code",
   "execution_count": 10,
   "metadata": {
    "colab": {
     "base_uri": "https://localhost:8080/",
     "height": 34
    },
    "colab_type": "code",
    "executionInfo": {
     "elapsed": 429,
     "status": "ok",
     "timestamp": 1560357334657,
     "user": {
      "displayName": "Ghezae Araya",
      "photoUrl": "",
      "userId": "15217319699035524667"
     },
     "user_tz": 420
    },
    "id": "Jd6cBQ6tgxbI",
    "outputId": "30b2f6ae-4933-4bca-c0b8-5e6dded9a1a4"
   },
   "outputs": [
    {
     "name": "stdout",
     "output_type": "stream",
     "text": [
      "The sum of the digits of the number 0 is:  1189\n"
     ]
    }
   ],
   "source": [
    "num = 2**1000\n",
    "result = 0\n",
    "\n",
    "while num > 0:\n",
    "  rem = num % 10\n",
    "  result += rem\n",
    "  num = int(num/10)\n",
    "#return result\n",
    "\n",
    "print (f'The sum of the digits of the number {num} is: ', result)"
   ]
  },
  {
   "cell_type": "markdown",
   "metadata": {
    "colab_type": "text",
    "id": "fDLKtx11kpLG"
   },
   "source": [
    "17. Number letter counts\n",
    "\n",
    "If the numbers $1$ to $5$ are written out in words: one, two, three, four, five, then there are $3 + 3 + 5 + 4 + 4 = 19$ letters used in total.\n",
    "\n",
    "If all the numbers from $1$ to $1000$ (one thousand) inclusive were written out in words, how many letters would be used?\n",
    "\n",
    "\n",
    "NOTE: Do not count spaces or hyphens. For example, $342$ (three hundred and forty-two) contains $23$ letters and $115$ (one hundred and fifteen) contains $20$ letters. The use of \"and\" when writing out numbers is in compliance with British usage."
   ]
  },
  {
   "cell_type": "code",
   "execution_count": 0,
   "metadata": {
    "colab": {},
    "colab_type": "code",
    "id": "B4vY89xalDH8"
   },
   "outputs": [],
   "source": [
    "def letterCount(word, char):\n",
    "  count = 0\n",
    "  for c in word:\n",
    "    count += (char == c)\n",
    "  return count"
   ]
  }
 ],
 "metadata": {
  "colab": {
   "name": "Project_Euler.ipynb",
   "provenance": [],
   "version": "0.3.2"
  },
  "kernelspec": {
   "display_name": "Python 3",
   "language": "python",
   "name": "python3"
  },
  "language_info": {
   "codemirror_mode": {
    "name": "ipython",
    "version": 3
   },
   "file_extension": ".py",
   "mimetype": "text/x-python",
   "name": "python",
   "nbconvert_exporter": "python",
   "pygments_lexer": "ipython3",
   "version": "3.6.5"
  }
 },
 "nbformat": 4,
 "nbformat_minor": 1
}
